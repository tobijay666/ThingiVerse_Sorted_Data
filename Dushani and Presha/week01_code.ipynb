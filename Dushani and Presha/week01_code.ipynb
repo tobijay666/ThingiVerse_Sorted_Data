{
 "cells": [
  {
   "cell_type": "markdown",
   "id": "63817446",
   "metadata": {
    "vscode": {
     "languageId": "plaintext"
    }
   },
   "source": [
    "# STL Model Classification Notes(week 01)\n",
    "\n",
    "We classify STL files into **Flat Models** or **Free Models** using two main tests:  \n",
    "\n",
    "---\n",
    "\n",
    "## 1. Bounding Box Ratio (Thinness Test)\n",
    "\n",
    "Think of putting your 3D model inside a cardboard box.  \n",
    "The box has **Width (X), Height (Y), Thickness (Z)**.  \n",
    "\n",
    "We calculate:\n",
    "\n",
    "\\[\n",
    "\\text{Ratio} = \\frac{\\text{Smallest Side}}{\\text{Largest Side}}\n",
    "\\]\n",
    "\n",
    "- If the **ratio is very small** → the model is **thin → Flat**   \n",
    "- If the **ratio is close to 1** → the model is **volumetric → Free**   \n",
    "\n",
    "**Examples:**  \n",
    "- Plate (100 × 80 × 3) → ratio = 3/100 = **0.03** → **Flat**   \n",
    "- Cube (50 × 50 × 50) → ratio = 50/50 = **1** → **Free**  \n",
    "\n",
    "---\n",
    "\n",
    "## 2. Surface Curvature (Flatness Test)\n",
    "\n",
    "Every 3D model is made of **tiny flat triangles**.  \n",
    "Each triangle has a **normal vector** → a little arrow showing its surface direction.  \n",
    "\n",
    "- If the model is **flat**, most arrows point in the **same direction**.  \n",
    "- If the model is **curved**, arrows point in **many directions**.  \n",
    "\n",
    "We measure alignment with the average normal:\n",
    "\n",
    "\\[\n",
    "\\text{Aligned Ratio} = \\frac{\\text{Number of Normals Aligned}}{\\text{Total Normals}}\n",
    "\\]\n",
    "\n",
    "- If **Aligned Ratio ≥ 0.8 (80%)** → **Flat**   \n",
    "- If **spread out** → **Free**  \n",
    "\n",
    "**Examples:**  \n",
    "- Plate → arrows almost parallel → **Flat**   \n",
    "- Sphere → arrows spread in all directions → **Free** \n",
    "\n",
    "---\n",
    "\n",
    "## Combined Rule\n",
    "\n",
    "A model is classified as **Flat** if:  \n",
    "\n",
    "\\[\n",
    "\\text{Bounding Box Ratio} < \\text{Threshold (e.g., 0.1)} \\quad \\text{AND} \\quad \\text{Aligned Ratio} > \\text{Threshold (e.g., 0.8)}\n",
    "\\]\n",
    "\n",
    "Otherwise, it is **Free**.  \n",
    "\n",
    " \n"
   ]
  },
  {
   "cell_type": "code",
   "execution_count": 1,
   "id": "c9dbe8f6",
   "metadata": {},
   "outputs": [
    {
     "name": "stderr",
     "output_type": "stream",
     "text": [
      "C:\\Users\\shane\\AppData\\Local\\Temp\\ipykernel_13160\\766094055.py:28: RuntimeWarning: invalid value encountered in divide\n",
      "  avg_normal /= np.linalg.norm(avg_normal)  # normalize\n"
     ]
    },
    {
     "name": "stdout",
     "output_type": "stream",
     "text": [
      "Flat Models: []\n",
      "Free Models: ['1050061.stl', '1051177.stl', '1053375.stl', '1777452.stl', '60094.stl', '60099.stl', '60100.stl', '60101.stl', '60170.stl', '60172.stl', '60223.stl', '60246.stl', '60261.stl', '60262.stl', '60264.stl', '60265.stl', '60267.stl', '60268.stl', '60269.stl', '60270.stl', '60271.stl', '60273.stl', '60274.stl', '60275.stl', '60276.stl', '60277.stl', '60278.stl', '60304.stl', '60328.stl', '60364.stl', '60435.stl', '60512.stl', '60513.stl', '60514.stl', '60941.stl', '61082.stl', '61181.stl', '61434.stl', '61463.stl', '61585.stl', '61792.stl', '62286.stl', '62860.stl', '62987.stl', '62989.stl', '63245.stl', '63277.stl', '838514.stl', '838515.stl', '838517.stl']\n"
     ]
    }
   ],
   "source": [
    "\n",
    "import os\n",
    "import trimesh\n",
    "import numpy as np\n",
    "\n",
    "def classify_models(folder_path, flat_ratio_threshold=0.1, normal_threshold=0.9, align_threshold=0.8):\n",
    "    flat_models = []\n",
    "    free_models = []\n",
    "\n",
    "    for file in os.listdir(folder_path):\n",
    "        if file.lower().endswith(\".stl\"):\n",
    "            file_path = os.path.join(folder_path, file)\n",
    "            try:\n",
    "                mesh = trimesh.load(file_path)\n",
    "\n",
    "                if not isinstance(mesh, trimesh.Trimesh):\n",
    "                    continue  # skip multi-part meshes\n",
    "\n",
    "                # --- Step 1: Bounding box ratio ---\n",
    "                extents = mesh.bounding_box.extents\n",
    "                min_dim = min(extents)\n",
    "                max_dim = max(extents)\n",
    "                ratio = min_dim / max_dim\n",
    "\n",
    "                # --- Step 2: Surface curvature check ---\n",
    "                normals = mesh.face_normals\n",
    "                avg_normal = np.mean(normals, axis=0)\n",
    "                avg_normal /= np.linalg.norm(avg_normal)  # normalize\n",
    "\n",
    "                alignment = np.dot(normals, avg_normal)\n",
    "                aligned_ratio = np.mean(alignment > normal_threshold)\n",
    "\n",
    "                # --- Step 3: Combined classification ---\n",
    "                if ratio < flat_ratio_threshold and aligned_ratio > align_threshold:\n",
    "                    flat_models.append(file)\n",
    "                else:\n",
    "                    free_models.append(file)\n",
    "\n",
    "            except Exception as e:\n",
    "                print(f\"Error loading {file}: {e}\")\n",
    "\n",
    "    return flat_models, free_models\n",
    "\n",
    "\n",
    "# Example usage:\n",
    "folder = r\"C:\\Users\\shane\\OneDrive\\Desktop\\3DP_Research\\STL\"\n",
    "flat, free = classify_models(folder)\n",
    "\n",
    "print(\"Flat Models:\", flat)\n",
    "print(\"Free Models:\", free)\n"
   ]
  }
 ],
 "metadata": {
  "kernelspec": {
   "display_name": "base",
   "language": "python",
   "name": "python3"
  },
  "language_info": {
   "codemirror_mode": {
    "name": "ipython",
    "version": 3
   },
   "file_extension": ".py",
   "mimetype": "text/x-python",
   "name": "python",
   "nbconvert_exporter": "python",
   "pygments_lexer": "ipython3",
   "version": "3.12.7"
  }
 },
 "nbformat": 4,
 "nbformat_minor": 5
}
