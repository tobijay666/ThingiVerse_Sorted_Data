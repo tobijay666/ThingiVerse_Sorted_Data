{
 "cells": [
  {
   "cell_type": "code",
   "execution_count": null,
   "id": "a191a7da-9d91-4aae-8f8f-91d8528c622c",
   "metadata": {},
   "outputs": [],
   "source": [
    "import pyvista as pv\n",
    "import numpy as np\n",
    "\n",
    "# 1. Load the mesh\n",
    "mesh = pv.read(r\"C:\\Users\\user\\Documents\\thingi data set\\New folder\\37003.stl\")\n",
    "\n",
    "# 2. Compute curvature\n",
    "# The `curvature` filter returns a NumPy array directly.\n",
    "gaussian_curvatures = mesh.curvature(curv_type='gaussian')\n",
    "\n",
    "# 3. Print and analyze the values\n",
    "print(\"The first 10 curvature values are:\")\n",
    "print(gaussian_curvatures[:10])\n",
    "\n",
    "# You can also get useful statistics from the array\n",
    "print(\"\\n--- Curvature Statistics ---\")\n",
    "print(f\"Minimum curvature: {np.min(gaussian_curvatures):.4f}\")\n",
    "print(f\"Maximum curvature: {np.max(gaussian_curvatures):.4f}\")\n",
    "print(f\"Average curvature: {np.mean(gaussian_curvatures):.4f}\")\n",
    "print(f\"Number of values: {len(gaussian_curvatures)}\")"
   ]
  },
  {
   "cell_type": "code",
   "execution_count": null,
   "id": "beb50772-9612-406b-9808-75ea34e95855",
   "metadata": {},
   "outputs": [],
   "source": [
    "import trimesh\n",
    "import numpy as np\n",
    "\n",
    "# 1. Load the mesh\n",
    "mesh = trimesh.load(r\"C:\\Users\\user\\Documents\\thingi data set\\1722406.stl\")\n",
    "\n",
    "# 2. Calculate the discrete Gaussian curvature using vertex defects\n",
    "gaussian_curvatures_trimesh = mesh.vertex_defects\n",
    "\n",
    "# 3. Print and compare the statistics\n",
    "print(\"--- Trimesh Curvature Statistics ---\")\n",
    "print(f\"Minimum curvature: {np.min(gaussian_curvatures_trimesh):.4f}\")\n",
    "print(f\"Maximum curvature: {np.max(gaussian_curvatures_trimesh):.4f}\")\n",
    "print(f\"Average curvature: {np.mean(gaussian_curvatures_trimesh):.4f}\")\n",
    "print(f\"Number of values: {len(gaussian_curvatures_trimesh)}\")"
   ]
  }
 ],
 "metadata": {
  "kernelspec": {
   "display_name": "Python [conda env:base] *",
   "language": "python",
   "name": "conda-base-py"
  },
  "language_info": {
   "codemirror_mode": {
    "name": "ipython",
    "version": 3
   },
   "file_extension": ".py",
   "mimetype": "text/x-python",
   "name": "python",
   "nbconvert_exporter": "python",
   "pygments_lexer": "ipython3",
   "version": "3.13.5"
  }
 },
 "nbformat": 4,
 "nbformat_minor": 5
}
