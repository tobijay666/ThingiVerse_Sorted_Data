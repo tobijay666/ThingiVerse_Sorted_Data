{
 "cells": [
  {
   "cell_type": "code",
   "execution_count": 1,
   "id": "fa2a2ac9",
   "metadata": {},
   "outputs": [
    {
     "name": "stdout",
     "output_type": "stream",
     "text": [
      "Requirement already satisfied: numpy-stl in d:\\softwares\\anaconda\\lib\\site-packages (3.2.0)\n",
      "Requirement already satisfied: numpy in d:\\softwares\\anaconda\\lib\\site-packages (from numpy-stl) (1.26.4)\n",
      "Requirement already satisfied: python-utils>=3.4.5 in d:\\softwares\\anaconda\\lib\\site-packages (from numpy-stl) (3.9.1)\n",
      "Requirement already satisfied: typing_extensions>3.10.0.2 in d:\\softwares\\anaconda\\lib\\site-packages (from python-utils>=3.4.5->numpy-stl) (4.11.0)\n",
      "Results saved to small_big_results.csv\n",
      "Results saved to small_big_results.csv\n"
     ]
    }
   ],
   "source": [
    "# Install numpy-stl if needed\n",
    "!pip install numpy-stl\n",
    "\n",
    "import os\n",
    "import csv\n",
    "from stl import mesh\n",
    "\n",
    "# Folder containing STL files\n",
    "folder = 'dataset- check'\n",
    "\n",
    "# Output CSV file\n",
    "output_csv = 'small_big_results.csv'\n",
    "\n",
    "# Thresholds in mm\n",
    "SMALL = 50\n",
    "BIG = 150\n",
    "\n",
    "# Prepare results list\n",
    "results = []\n",
    "\n",
    "# Loop through all STL files in the folder\n",
    "for filename in os.listdir(folder):\n",
    "    if filename.lower().endswith('.stl'):\n",
    "        filepath = os.path.join(folder, filename)\n",
    "        try:\n",
    "            model = mesh.Mesh.from_file(filepath)\n",
    "            min_coords = model.points.min(axis=0)\n",
    "            max_coords = model.points.max(axis=0)\n",
    "            size = max_coords - min_coords\n",
    "            max_dimension = size.max()\n",
    "            if max_dimension <= SMALL:\n",
    "                category = 'SMALL'\n",
    "            elif max_dimension > BIG:\n",
    "                category = 'BIG'\n",
    "            else:\n",
    "                category = 'MEDIUM'\n",
    "            results.append([filename, f\"{max_dimension:.2f}\", category])\n",
    "        except Exception as e:\n",
    "            results.append([filename, 'ERROR', str(e)])\n",
    "\n",
    "# Write results to CSV\n",
    "with open(output_csv, 'w', newline='') as f:\n",
    "    writer = csv.writer(f)\n",
    "    writer.writerow(['filename', 'max_dimension_mm', 'category'])\n",
    "    writer.writerows(results)\n",
    "\n",
    "print(f\"Results saved to {output_csv}\")"
   ]
  }
 ],
 "metadata": {
  "kernelspec": {
   "display_name": "base",
   "language": "python",
   "name": "python3"
  },
  "language_info": {
   "codemirror_mode": {
    "name": "ipython",
    "version": 3
   },
   "file_extension": ".py",
   "mimetype": "text/x-python",
   "name": "python",
   "nbconvert_exporter": "python",
   "pygments_lexer": "ipython3",
   "version": "3.12.7"
  }
 },
 "nbformat": 4,
 "nbformat_minor": 5
}
